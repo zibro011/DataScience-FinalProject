{
  "nbformat": 4,
  "nbformat_minor": 0,
  "metadata": {
    "colab": {
      "name": "Team2d6FinalProject.ipynb",
      "provenance": [],
      "collapsed_sections": [
        "qyq92gr_rln0",
        "LfEJ9BLGDThC",
        "kcrxadpFDWHg",
        "VhagX-r6BbWe",
        "cs2SN0Vt44sE",
        "kQBa1CGl47yu",
        "SSSaVgSv4q67",
        "H7lo31ja4wqF",
        "goeIUicZ6qS_",
        "aAQbHypj7FhP",
        "0YxPHfZq-Dmd",
        "_xlMaJGLrxLl"
      ],
      "include_colab_link": true
    },
    "kernelspec": {
      "name": "python3",
      "display_name": "Python 3"
    },
    "language_info": {
      "name": "python"
    }
  },
  "cells": [
    {
      "cell_type": "markdown",
      "metadata": {
        "id": "view-in-github",
        "colab_type": "text"
      },
      "source": [
        "<a href=\"https://colab.research.google.com/github/zibro011/DataScience-FinalProject/blob/main/Team2d6FinalProject.ipynb\" target=\"_parent\"><img src=\"https://colab.research.google.com/assets/colab-badge.svg\" alt=\"Open In Colab\"/></a>"
      ]
    },
    {
      "cell_type": "markdown",
      "source": [
        "**INET 4061 Final Project** <br>\n",
        "**Team 2d6** <br>\n",
        "**December 12, 2021** <br>"
      ],
      "metadata": {
        "id": "KEXjYuJkfkYP"
      }
    },
    {
      "cell_type": "markdown",
      "source": [
        "#Overview\n",
        "This project explores the correlation between different song attributes and the song's genre. Using a variety of information about a given song, the goal of this project is to develop a model that most accurately identifies a song's genre. We do so using 5 different feature selection techniques and 3 different classification models. The feature selection techniques include: Correlation Heatmap, KMeans Clustering, Agglomerative Clustering, Feature Importance Using Random Forests, and Stepwise Regression. The classification models include: Random Forest Classifier, K Nearest Neighbors(KNN), and Multinomial Logistic Regression. All the work in this notebook was completed using prior knowledge or previous labs submitted during the semester unless otherwise noted."
      ],
      "metadata": {
        "id": "KwpQrpW7rubq"
      }
    },
    {
      "cell_type": "markdown",
      "source": [
        "#Download Data\n",
        "The was collected by entering all songs included in playlists that Adelaide followed on Spotify onto this website: http://organizeyourmusic.playlistmachinery.com/. The website provided information for each song including song title, artist, top genre, date added, beats per minute(bpm), energy(nrgy), danceability(dnce), loudness(dB), liveness(live), valence(val), duration(dur), acousticness(acous), speechiness(spch), and popularity(pop). For the purposes of our project, we ommitted the title, artist, and date added variables, and our target variable was top genre."
      ],
      "metadata": {
        "id": "qyq92gr_rln0"
      }
    },
    {
      "cell_type": "code",
      "source": [
        "import pandas as pd\n",
        "import numpy as np\n",
        "from scipy import stats\n",
        "import matplotlib.pyplot as plt"
      ],
      "metadata": {
        "id": "UdYlU7t2Wmcd"
      },
      "execution_count": null,
      "outputs": []
    },
    {
      "cell_type": "code",
      "execution_count": null,
      "metadata": {
        "id": "MuLb5qgiPSD-",
        "colab": {
          "resources": {
            "http://localhost:8080/nbextensions/google.colab/files.js": {
              "data": "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",
              "ok": true,
              "headers": [
                [
                  "content-type",
                  "application/javascript"
                ]
              ],
              "status": 200,
              "status_text": ""
            }
          },
          "base_uri": "https://localhost:8080/",
          "height": 73
        },
        "outputId": "61da0f48-f81d-4c27-9d07-4c5cdff22921"
      },
      "outputs": [
        {
          "output_type": "display_data",
          "data": {
            "text/html": [
              "\n",
              "     <input type=\"file\" id=\"files-70f9f3b2-d83a-4ac3-a300-ed443a2973de\" name=\"files[]\" multiple disabled\n",
              "        style=\"border:none\" />\n",
              "     <output id=\"result-70f9f3b2-d83a-4ac3-a300-ed443a2973de\">\n",
              "      Upload widget is only available when the cell has been executed in the\n",
              "      current browser session. Please rerun this cell to enable.\n",
              "      </output>\n",
              "      <script src=\"/nbextensions/google.colab/files.js\"></script> "
            ],
            "text/plain": [
              "<IPython.core.display.HTML object>"
            ]
          },
          "metadata": {}
        },
        {
          "output_type": "stream",
          "name": "stdout",
          "text": [
            "Saving spotify.csv to spotify (1).csv\n"
          ]
        }
      ],
      "source": [
        "#upload file\n",
        "from google.colab import files\n",
        "uploaded = files.upload()"
      ]
    },
    {
      "cell_type": "code",
      "source": [
        "#read file\n",
        "import io\n",
        "df = pd.read_csv(io.BytesIO(uploaded['spotify.csv']))"
      ],
      "metadata": {
        "id": "eVE1NFE7WRlZ"
      },
      "execution_count": null,
      "outputs": []
    },
    {
      "cell_type": "markdown",
      "metadata": {
        "id": "XGTesM-GPDth"
      },
      "source": [
        "#EDA"
      ]
    },
    {
      "cell_type": "markdown",
      "source": [
        "##Initial Exploration"
      ],
      "metadata": {
        "id": "LfEJ9BLGDThC"
      }
    },
    {
      "cell_type": "code",
      "metadata": {
        "colab": {
          "base_uri": "https://localhost:8080/",
          "height": 206
        },
        "id": "CyJSG2qehok-",
        "outputId": "8ec61017-8c3a-46cf-9a83-99f0d8c2de7f"
      },
      "source": [
        "#see first 5 rows\n",
        "df.head()"
      ],
      "execution_count": null,
      "outputs": [
        {
          "output_type": "execute_result",
          "data": {
            "text/html": [
              "<div>\n",
              "<style scoped>\n",
              "    .dataframe tbody tr th:only-of-type {\n",
              "        vertical-align: middle;\n",
              "    }\n",
              "\n",
              "    .dataframe tbody tr th {\n",
              "        vertical-align: top;\n",
              "    }\n",
              "\n",
              "    .dataframe thead th {\n",
              "        text-align: right;\n",
              "    }\n",
              "</style>\n",
              "<table border=\"1\" class=\"dataframe\">\n",
              "  <thead>\n",
              "    <tr style=\"text-align: right;\">\n",
              "      <th></th>\n",
              "      <th>title</th>\n",
              "      <th>artist</th>\n",
              "      <th>top genre</th>\n",
              "      <th>year</th>\n",
              "      <th>added</th>\n",
              "      <th>bpm</th>\n",
              "      <th>nrgy</th>\n",
              "      <th>dnce</th>\n",
              "      <th>dB</th>\n",
              "      <th>live</th>\n",
              "      <th>val</th>\n",
              "      <th>dur</th>\n",
              "      <th>acous</th>\n",
              "      <th>spch</th>\n",
              "      <th>pop</th>\n",
              "    </tr>\n",
              "  </thead>\n",
              "  <tbody>\n",
              "    <tr>\n",
              "      <th>0</th>\n",
              "      <td>Colder Weather</td>\n",
              "      <td>Zac Brown Band</td>\n",
              "      <td>contemporary country</td>\n",
              "      <td>2010.0</td>\n",
              "      <td>2018‑10‑10</td>\n",
              "      <td>136.0</td>\n",
              "      <td>38.0</td>\n",
              "      <td>67.0</td>\n",
              "      <td>-7.0</td>\n",
              "      <td>12.0</td>\n",
              "      <td>20.0</td>\n",
              "      <td>274.0</td>\n",
              "      <td>46.0</td>\n",
              "      <td>3.0</td>\n",
              "      <td>69.0</td>\n",
              "    </tr>\n",
              "    <tr>\n",
              "      <th>1</th>\n",
              "      <td>Bruised Orange (Chain of Sorrow)</td>\n",
              "      <td>Justin Vernon</td>\n",
              "      <td>eau claire indie</td>\n",
              "      <td>2010.0</td>\n",
              "      <td>2018‑02‑21</td>\n",
              "      <td>51.0</td>\n",
              "      <td>42.0</td>\n",
              "      <td>17.0</td>\n",
              "      <td>-9.0</td>\n",
              "      <td>6.0</td>\n",
              "      <td>8.0</td>\n",
              "      <td>242.0</td>\n",
              "      <td>99.0</td>\n",
              "      <td>6.0</td>\n",
              "      <td>47.0</td>\n",
              "    </tr>\n",
              "    <tr>\n",
              "      <th>2</th>\n",
              "      <td>Static Waves</td>\n",
              "      <td>Andrew Belle</td>\n",
              "      <td>acoustic pop</td>\n",
              "      <td>2010.0</td>\n",
              "      <td>2016‑12‑02</td>\n",
              "      <td>144.0</td>\n",
              "      <td>53.0</td>\n",
              "      <td>62.0</td>\n",
              "      <td>-9.0</td>\n",
              "      <td>9.0</td>\n",
              "      <td>34.0</td>\n",
              "      <td>221.0</td>\n",
              "      <td>6.0</td>\n",
              "      <td>3.0</td>\n",
              "      <td>39.0</td>\n",
              "    </tr>\n",
              "    <tr>\n",
              "      <th>3</th>\n",
              "      <td>Business as Usual</td>\n",
              "      <td>Coma Cinema</td>\n",
              "      <td>anti-folk</td>\n",
              "      <td>2011.0</td>\n",
              "      <td>2021‑09‑29</td>\n",
              "      <td>129.0</td>\n",
              "      <td>59.0</td>\n",
              "      <td>63.0</td>\n",
              "      <td>-6.0</td>\n",
              "      <td>17.0</td>\n",
              "      <td>29.0</td>\n",
              "      <td>190.0</td>\n",
              "      <td>17.0</td>\n",
              "      <td>3.0</td>\n",
              "      <td>31.0</td>\n",
              "    </tr>\n",
              "    <tr>\n",
              "      <th>4</th>\n",
              "      <td>Long Burn The Fire</td>\n",
              "      <td>Beastie Boys</td>\n",
              "      <td>alternative rock</td>\n",
              "      <td>2011.0</td>\n",
              "      <td>2021‑09‑30</td>\n",
              "      <td>83.0</td>\n",
              "      <td>82.0</td>\n",
              "      <td>61.0</td>\n",
              "      <td>-6.0</td>\n",
              "      <td>38.0</td>\n",
              "      <td>40.0</td>\n",
              "      <td>214.0</td>\n",
              "      <td>20.0</td>\n",
              "      <td>26.0</td>\n",
              "      <td>30.0</td>\n",
              "    </tr>\n",
              "  </tbody>\n",
              "</table>\n",
              "</div>"
            ],
            "text/plain": [
              "                              title          artist  ...  spch   pop\n",
              "0                    Colder Weather  Zac Brown Band  ...   3.0  69.0\n",
              "1  Bruised Orange (Chain of Sorrow)   Justin Vernon  ...   6.0  47.0\n",
              "2                      Static Waves    Andrew Belle  ...   3.0  39.0\n",
              "3                 Business as Usual     Coma Cinema  ...   3.0  31.0\n",
              "4                Long Burn The Fire    Beastie Boys  ...  26.0  30.0\n",
              "\n",
              "[5 rows x 15 columns]"
            ]
          },
          "metadata": {},
          "execution_count": 7
        }
      ]
    },
    {
      "cell_type": "code",
      "metadata": {
        "colab": {
          "base_uri": "https://localhost:8080/",
          "height": 206
        },
        "id": "TKqLC068hrAB",
        "outputId": "473f3cec-892f-4638-bf52-78e926c88c5a"
      },
      "source": [
        "#see last 5 rows\n",
        "df.tail()"
      ],
      "execution_count": null,
      "outputs": [
        {
          "output_type": "execute_result",
          "data": {
            "text/html": [
              "<div>\n",
              "<style scoped>\n",
              "    .dataframe tbody tr th:only-of-type {\n",
              "        vertical-align: middle;\n",
              "    }\n",
              "\n",
              "    .dataframe tbody tr th {\n",
              "        vertical-align: top;\n",
              "    }\n",
              "\n",
              "    .dataframe thead th {\n",
              "        text-align: right;\n",
              "    }\n",
              "</style>\n",
              "<table border=\"1\" class=\"dataframe\">\n",
              "  <thead>\n",
              "    <tr style=\"text-align: right;\">\n",
              "      <th></th>\n",
              "      <th>title</th>\n",
              "      <th>artist</th>\n",
              "      <th>top genre</th>\n",
              "      <th>year</th>\n",
              "      <th>added</th>\n",
              "      <th>bpm</th>\n",
              "      <th>nrgy</th>\n",
              "      <th>dnce</th>\n",
              "      <th>dB</th>\n",
              "      <th>live</th>\n",
              "      <th>val</th>\n",
              "      <th>dur</th>\n",
              "      <th>acous</th>\n",
              "      <th>spch</th>\n",
              "      <th>pop</th>\n",
              "    </tr>\n",
              "  </thead>\n",
              "  <tbody>\n",
              "    <tr>\n",
              "      <th>1019</th>\n",
              "      <td>Having No Head</td>\n",
              "      <td>The 1975</td>\n",
              "      <td>modern alternative rock</td>\n",
              "      <td>2020.0</td>\n",
              "      <td>2020‑05‑21</td>\n",
              "      <td>118.0</td>\n",
              "      <td>59.0</td>\n",
              "      <td>45.0</td>\n",
              "      <td>-14.0</td>\n",
              "      <td>8.0</td>\n",
              "      <td>3.0</td>\n",
              "      <td>365.0</td>\n",
              "      <td>38.0</td>\n",
              "      <td>8.0</td>\n",
              "      <td>42.0</td>\n",
              "    </tr>\n",
              "    <tr>\n",
              "      <th>1020</th>\n",
              "      <td>What Should I Say</td>\n",
              "      <td>The 1975</td>\n",
              "      <td>modern alternative rock</td>\n",
              "      <td>2020.0</td>\n",
              "      <td>2020‑05‑21</td>\n",
              "      <td>105.0</td>\n",
              "      <td>66.0</td>\n",
              "      <td>68.0</td>\n",
              "      <td>-9.0</td>\n",
              "      <td>10.0</td>\n",
              "      <td>14.0</td>\n",
              "      <td>246.0</td>\n",
              "      <td>9.0</td>\n",
              "      <td>5.0</td>\n",
              "      <td>52.0</td>\n",
              "    </tr>\n",
              "    <tr>\n",
              "      <th>1021</th>\n",
              "      <td>Bagsy Not In Net</td>\n",
              "      <td>The 1975</td>\n",
              "      <td>modern alternative rock</td>\n",
              "      <td>2020.0</td>\n",
              "      <td>2020‑05‑21</td>\n",
              "      <td>132.0</td>\n",
              "      <td>53.0</td>\n",
              "      <td>32.0</td>\n",
              "      <td>-10.0</td>\n",
              "      <td>11.0</td>\n",
              "      <td>33.0</td>\n",
              "      <td>147.0</td>\n",
              "      <td>13.0</td>\n",
              "      <td>3.0</td>\n",
              "      <td>44.0</td>\n",
              "    </tr>\n",
              "    <tr>\n",
              "      <th>1022</th>\n",
              "      <td>Dinner</td>\n",
              "      <td>Kacy Hill</td>\n",
              "      <td>alternative r&amp;b</td>\n",
              "      <td>2020.0</td>\n",
              "      <td>2019‑06‑17</td>\n",
              "      <td>111.0</td>\n",
              "      <td>63.0</td>\n",
              "      <td>79.0</td>\n",
              "      <td>-8.0</td>\n",
              "      <td>11.0</td>\n",
              "      <td>27.0</td>\n",
              "      <td>155.0</td>\n",
              "      <td>80.0</td>\n",
              "      <td>6.0</td>\n",
              "      <td>38.0</td>\n",
              "    </tr>\n",
              "    <tr>\n",
              "      <th>1023</th>\n",
              "      <td>NaN</td>\n",
              "      <td>NaN</td>\n",
              "      <td>NaN</td>\n",
              "      <td>NaN</td>\n",
              "      <td>NaN</td>\n",
              "      <td>NaN</td>\n",
              "      <td>NaN</td>\n",
              "      <td>NaN</td>\n",
              "      <td>NaN</td>\n",
              "      <td>NaN</td>\n",
              "      <td>NaN</td>\n",
              "      <td>NaN</td>\n",
              "      <td>NaN</td>\n",
              "      <td>NaN</td>\n",
              "      <td>NaN</td>\n",
              "    </tr>\n",
              "  </tbody>\n",
              "</table>\n",
              "</div>"
            ],
            "text/plain": [
              "                  title     artist                top genre  ...  acous spch   pop\n",
              "1019     Having No Head   The 1975  modern alternative rock  ...   38.0  8.0  42.0\n",
              "1020  What Should I Say   The 1975  modern alternative rock  ...    9.0  5.0  52.0\n",
              "1021   Bagsy Not In Net   The 1975  modern alternative rock  ...   13.0  3.0  44.0\n",
              "1022             Dinner  Kacy Hill          alternative r&b  ...   80.0  6.0  38.0\n",
              "1023                NaN        NaN                      NaN  ...    NaN  NaN   NaN\n",
              "\n",
              "[5 rows x 15 columns]"
            ]
          },
          "metadata": {},
          "execution_count": 8
        }
      ]
    },
    {
      "cell_type": "code",
      "metadata": {
        "colab": {
          "base_uri": "https://localhost:8080/"
        },
        "id": "Xoh8A3T4huAb",
        "outputId": "80faab25-29b2-4848-f205-856cf2213cd4"
      },
      "source": [
        "#see how many rows and columns are in the dataset\n",
        "df.shape"
      ],
      "execution_count": null,
      "outputs": [
        {
          "output_type": "execute_result",
          "data": {
            "text/plain": [
              "(1024, 15)"
            ]
          },
          "metadata": {},
          "execution_count": 9
        }
      ]
    },
    {
      "cell_type": "code",
      "metadata": {
        "colab": {
          "base_uri": "https://localhost:8080/"
        },
        "id": "4ucqRSh-hxUf",
        "outputId": "54b92d5f-4504-4b6c-9761-432130b5b83b"
      },
      "source": [
        "#see how many unique values there are for each variable\n",
        "df.nunique()"
      ],
      "execution_count": null,
      "outputs": [
        {
          "output_type": "execute_result",
          "data": {
            "text/plain": [
              "title        651\n",
              "artist       269\n",
              "top genre    118\n",
              "year         329\n",
              "added         89\n",
              "bpm          442\n",
              "nrgy         413\n",
              "dnce         402\n",
              "dB           341\n",
              "live         388\n",
              "val          412\n",
              "dur          544\n",
              "acous        417\n",
              "spch         365\n",
              "pop          397\n",
              "dtype: int64"
            ]
          },
          "metadata": {},
          "execution_count": 10
        }
      ]
    },
    {
      "cell_type": "code",
      "metadata": {
        "colab": {
          "base_uri": "https://localhost:8080/",
          "height": 300
        },
        "id": "DKowdW9eh4CR",
        "outputId": "91320a60-87bc-4408-fbb8-f672fa2659a9"
      },
      "source": [
        "#get dataset attributes\n",
        "df.describe()"
      ],
      "execution_count": null,
      "outputs": [
        {
          "output_type": "execute_result",
          "data": {
            "text/html": [
              "<div>\n",
              "<style scoped>\n",
              "    .dataframe tbody tr th:only-of-type {\n",
              "        vertical-align: middle;\n",
              "    }\n",
              "\n",
              "    .dataframe tbody tr th {\n",
              "        vertical-align: top;\n",
              "    }\n",
              "\n",
              "    .dataframe thead th {\n",
              "        text-align: right;\n",
              "    }\n",
              "</style>\n",
              "<table border=\"1\" class=\"dataframe\">\n",
              "  <thead>\n",
              "    <tr style=\"text-align: right;\">\n",
              "      <th></th>\n",
              "      <th>year</th>\n",
              "      <th>bpm</th>\n",
              "      <th>nrgy</th>\n",
              "      <th>dnce</th>\n",
              "      <th>dB</th>\n",
              "      <th>live</th>\n",
              "      <th>val</th>\n",
              "      <th>dur</th>\n",
              "      <th>acous</th>\n",
              "      <th>spch</th>\n",
              "      <th>pop</th>\n",
              "    </tr>\n",
              "  </thead>\n",
              "  <tbody>\n",
              "    <tr>\n",
              "      <th>count</th>\n",
              "      <td>1022.000000</td>\n",
              "      <td>1022.000000</td>\n",
              "      <td>1022.000000</td>\n",
              "      <td>1022.000000</td>\n",
              "      <td>1022.000000</td>\n",
              "      <td>1022.000000</td>\n",
              "      <td>1022.000000</td>\n",
              "      <td>1022.000000</td>\n",
              "      <td>1022.000000</td>\n",
              "      <td>1022.000000</td>\n",
              "      <td>1022.000000</td>\n",
              "    </tr>\n",
              "    <tr>\n",
              "      <th>mean</th>\n",
              "      <td>2017.359258</td>\n",
              "      <td>116.619234</td>\n",
              "      <td>51.712319</td>\n",
              "      <td>57.520712</td>\n",
              "      <td>-8.554699</td>\n",
              "      <td>17.300330</td>\n",
              "      <td>39.847811</td>\n",
              "      <td>227.212589</td>\n",
              "      <td>38.051196</td>\n",
              "      <td>8.051057</td>\n",
              "      <td>55.915255</td>\n",
              "    </tr>\n",
              "    <tr>\n",
              "      <th>std</th>\n",
              "      <td>2.613059</td>\n",
              "      <td>24.184046</td>\n",
              "      <td>20.291443</td>\n",
              "      <td>14.900369</td>\n",
              "      <td>3.077937</td>\n",
              "      <td>14.588375</td>\n",
              "      <td>19.863098</td>\n",
              "      <td>53.888884</td>\n",
              "      <td>28.441783</td>\n",
              "      <td>7.421221</td>\n",
              "      <td>14.193772</td>\n",
              "    </tr>\n",
              "    <tr>\n",
              "      <th>min</th>\n",
              "      <td>2010.000000</td>\n",
              "      <td>47.000000</td>\n",
              "      <td>1.000000</td>\n",
              "      <td>8.000000</td>\n",
              "      <td>-25.000000</td>\n",
              "      <td>3.000000</td>\n",
              "      <td>3.000000</td>\n",
              "      <td>43.000000</td>\n",
              "      <td>0.000000</td>\n",
              "      <td>2.000000</td>\n",
              "      <td>0.000000</td>\n",
              "    </tr>\n",
              "    <tr>\n",
              "      <th>25%</th>\n",
              "      <td>2016.000000</td>\n",
              "      <td>105.000000</td>\n",
              "      <td>38.595402</td>\n",
              "      <td>51.250000</td>\n",
              "      <td>-9.539186</td>\n",
              "      <td>10.000000</td>\n",
              "      <td>28.000000</td>\n",
              "      <td>200.000000</td>\n",
              "      <td>9.000000</td>\n",
              "      <td>4.000000</td>\n",
              "      <td>51.000000</td>\n",
              "    </tr>\n",
              "    <tr>\n",
              "      <th>50%</th>\n",
              "      <td>2017.440850</td>\n",
              "      <td>114.996786</td>\n",
              "      <td>48.000000</td>\n",
              "      <td>59.300484</td>\n",
              "      <td>-8.820971</td>\n",
              "      <td>12.082518</td>\n",
              "      <td>39.645797</td>\n",
              "      <td>233.511890</td>\n",
              "      <td>41.000000</td>\n",
              "      <td>6.652089</td>\n",
              "      <td>56.613248</td>\n",
              "    </tr>\n",
              "    <tr>\n",
              "      <th>75%</th>\n",
              "      <td>2019.179077</td>\n",
              "      <td>125.000000</td>\n",
              "      <td>66.000000</td>\n",
              "      <td>63.000000</td>\n",
              "      <td>-7.000000</td>\n",
              "      <td>16.000000</td>\n",
              "      <td>48.000000</td>\n",
              "      <td>242.000000</td>\n",
              "      <td>53.000000</td>\n",
              "      <td>6.901108</td>\n",
              "      <td>62.000000</td>\n",
              "    </tr>\n",
              "    <tr>\n",
              "      <th>max</th>\n",
              "      <td>2022.496635</td>\n",
              "      <td>210.000000</td>\n",
              "      <td>99.000000</td>\n",
              "      <td>96.000000</td>\n",
              "      <td>-2.000000</td>\n",
              "      <td>98.000000</td>\n",
              "      <td>97.000000</td>\n",
              "      <td>591.000000</td>\n",
              "      <td>99.000000</td>\n",
              "      <td>54.000000</td>\n",
              "      <td>93.000000</td>\n",
              "    </tr>\n",
              "  </tbody>\n",
              "</table>\n",
              "</div>"
            ],
            "text/plain": [
              "              year          bpm  ...         spch          pop\n",
              "count  1022.000000  1022.000000  ...  1022.000000  1022.000000\n",
              "mean   2017.359258   116.619234  ...     8.051057    55.915255\n",
              "std       2.613059    24.184046  ...     7.421221    14.193772\n",
              "min    2010.000000    47.000000  ...     2.000000     0.000000\n",
              "25%    2016.000000   105.000000  ...     4.000000    51.000000\n",
              "50%    2017.440850   114.996786  ...     6.652089    56.613248\n",
              "75%    2019.179077   125.000000  ...     6.901108    62.000000\n",
              "max    2022.496635   210.000000  ...    54.000000    93.000000\n",
              "\n",
              "[8 rows x 11 columns]"
            ]
          },
          "metadata": {},
          "execution_count": 11
        }
      ]
    },
    {
      "cell_type": "code",
      "source": [
        "#plot histograms of each feature\n",
        "fig, axs = plt.subplots(5,2,figsize=(15,15))\n",
        "fig.tight_layout()\n",
        "axs[0, 0].hist(df['bpm'],bins=10) #original data\n",
        "axs[0, 0].set_title('Beats Per Minute')\n",
        "axs[0, 1].hist(df['nrgy'],bins=10) \n",
        "axs[0, 1].set_title('Energy')\n",
        "axs[1, 0].hist(df['dnce'],bins=10) \n",
        "axs[1, 0].set_title('Danceability')\n",
        "axs[1, 1].hist(df['dB'],bins=10) \n",
        "axs[1, 1].set_title('Loudness')\n",
        "\n",
        "axs[2, 0].hist(df['live'],bins=10) \n",
        "axs[2, 0].set_title('Liveness')\n",
        "\n",
        "axs[2, 1].hist(df['val'],bins=10) \n",
        "axs[2, 1].set_title('Valence')\n",
        "\n",
        "axs[3, 0].hist(df['dur'],bins=10)\n",
        "axs[3, 0].set_title('Length')\n",
        "\n",
        "axs[3, 1].hist(df['acous'],bins=10)\n",
        "axs[3, 1].set_title('Acousticness')\n",
        "\n",
        "axs[4, 0].hist(df['spch'],bins=10) \n",
        "axs[4, 0].set_title('Speechiness')\n",
        "\n",
        "axs[4, 1].hist(df['pop'],bins=10) \n",
        "axs[4, 1].set_title('Popularity')\n",
        "plt.show()"
      ],
      "metadata": {
        "colab": {
          "base_uri": "https://localhost:8080/",
          "height": 1000
        },
        "id": "Qi0RSv_5d2x-",
        "outputId": "9e136b58-a5dd-42e0-9ef4-c69a1eee839d"
      },
      "execution_count": null,
      "outputs": [
        {
          "output_type": "display_data",
          "data": {
            "image/png": "[encoded data removed]",
            "text/plain": [
              "<Figure size 1080x1080 with 10 Axes>"
            ]
          },
          "metadata": {
            "needs_background": "light"
          }
        }
      ]
    },
    {
      "cell_type": "markdown",
      "source": [
        "##Cleaning Data\n",
        "Here we drop duplicate rows, drop rows containing null values, reduce the number of genres listed under the 'top genre' attribute, convert genres to corresponding integers, create testing and training data, and scale our data. "
      ],
      "metadata": {
        "id": "kcrxadpFDWHg"
      }
    },
    {
      "cell_type": "code",
      "source": [
        "#drop duplicate rows\n",
        "df.drop_duplicates()\n",
        "df.shape"
      ],
      "metadata": {
        "colab": {
          "base_uri": "https://localhost:8080/"
        },
        "id": "_ISObyZ1ALEp",
        "outputId": "fd1df6f4-9bd8-4d2c-fde2-2ed1b13416a6"
      },
      "execution_count": null,
      "outputs": [
        {
          "output_type": "execute_result",
          "data": {
            "text/plain": [
              "(1024, 15)"
            ]
          },
          "metadata": {},
          "execution_count": 13
        }
      ]
    },
    {
      "cell_type": "code",
      "source": [
        "#drop added because it is irrelevant\n",
        "df = df.drop(columns=['added'])"
      ],
      "metadata": {
        "id": "-qVk03h1W3sy"
      },
      "execution_count": null,
      "outputs": []
    },
    {
      "cell_type": "code",
      "metadata": {
        "colab": {
          "base_uri": "https://localhost:8080/"
        },
        "id": "7pMLCdbMuRhg",
        "outputId": "718e0986-1faf-4849-a989-87a5c67dc074"
      },
      "source": [
        "#drop any rows that contain a null value in any column\n",
        "df= df.dropna(how = 'any', axis = 0)\n",
        "df.shape"
      ],
      "execution_count": null,
      "outputs": [
        {
          "output_type": "execute_result",
          "data": {
            "text/plain": [
              "(995, 14)"
            ]
          },
          "metadata": {},
          "execution_count": 15
        }
      ]
    },
    {
      "cell_type": "code",
      "source": [
        "#make less genres (went from 118 to 21)\n",
        "df['top genre'] = df['top genre'].replace({'viral pop':'pop', 'contemporary country':'country', 'eau claire indie':'indie', 'acoustic pop':'acoustic', 'alternative rock':'rock', 'modern alternative rock' :'rock', 'anti-folk' : 'emo/punk', 'art pop': 'pop', 'indie pop': 'indie', 'atl hip hop': 'hip hop', 'baroque pop': 'pop', 'alternative r&b' : 'r&b', 'folk-pop': 'folk', 'east coast reggae':'reggae', 'boy band': 'pop', 'british soul' : 'soul', 'indie folk' : 'folk', 'conscious hip hop' : 'hip hop', 'modern rock' : 'rock', 'indie garage rock': 'rock', 'folk-pop': 'folk', 'acoustic rock' : 'acoustic', 'dance pop':'pop', 'teen pop': 'pop', 'brooklyn indie' : 'indie', 'gainesville indie':'indie', 'indie poptimism':'indie', 'metropopolis':'pop', 'german pop': 'pop', 'alternative emo':'emo/punk', 'ambient folk':'ambient', 'irish singer-songwriter': 'singer-songwriter', 'ambient worship':'ambient', 'trap soul':'soul', 'canadian pop': 'pop', 'belfast indie':'indie', 'pop soul':'soul', 'indie anthem-folk':'folk', 'australian pop':'pop', 'australian alternative pop':'pop', 'comedy rap':'rap', 'la pop':'pop', 'dfw rap':'rap', 'french indie pop':'pop', 'antiviral pop':'pop', 'chicago rap':'rap', 'electropop':'pop', 'taiwan indie':'indie', 'vapor pop':'pop', 'adult standards': 'classical', 'aesthetic rap':'rap', 'alabama rap':'rap','alaska indie':'indie','alberta hip hop': 'hip hop', 'alternative dance': 'house', 'alternative pop rock': 'rock', 'alt z': 'alternative', 'australian hip hop':'hip hop', 'bedroom pop':'pop', 'bedroom soul':'soul', 'cali rap': 'rap', 'canadian hip hop': 'hip hop', 'trap beats': 'hip hop', 'swedish singer-songwriter': 'singer-songwriter', 'pop rap': 'rap', 'philly indie': 'indie', 'ontario indie': 'indie', 'ohio hip hop': 'hip hop', 'north carolina hip hop': 'hip hop', 'nigerian pop': 'pop', 'neo-classical': 'classical', 'modern folk rock': 'folk', 'miami hip hop': 'hip hop', 'meme rap': 'rap', 'modern indie pop': 'indie', 'melodic rap': 'rap', 'lo-fi rap':'rap', 'k-pop':'pop', 'irish pop': 'pop', 'indonesian singer-songwriter': 'singer-songwriter', 'indie soul': 'soul', 'indie rock': 'rock', 'indie r&b': 'r&b', 'indie hip hop': 'hip hop', 'gauze pop': 'pop', 'emo rap': 'emo/punk', 'dmv rap': 'rap', 'deep underground hip hop': 'hip hop', 'colombian pop': 'pop', 'cincinnati indie': 'indie', 'chill r&b': 'r&b', 'canadian indie': 'indie', 'canadian contemporary r&b': 'r&b', 'australian r&b': 'r&b', 'indie rockism': 'indie', 'escape room': 'pop', 'deep groove house': 'house', 'complextro': 'house', 'deep new americana': 'other', 'austin americana' : 'other', 'afro dancehall': 'afro', 'afrofuturism': 'afro', 'bachata': 'latin', 'musica nicaraguense':'latin', 'banjo':'folk', 'brooklyn drill': 'hip hop', 'aussietronica': 'other', 'dream smp': 'other', 'chillwave':'indie', 'ccm': 'other', 'bubblegrunge': 'rock', 'australian psych': 'rock', 'emo': 'emo/punk', 'punk': 'emo/punk' })\n"
      ],
      "metadata": {
        "id": "5lOZqws6fHxK"
      },
      "execution_count": null,
      "outputs": []
    },
    {
      "cell_type": "code",
      "source": [
        "#Calculating the number of songs of each genre\n",
        "print(type(df['top genre']))\n",
        "popular_genre=df.groupby('top genre').size().unique\n",
        "print(popular_genre)\n",
        "genre_list=df['top genre'].values.tolist()"
      ],
      "metadata": {
        "colab": {
          "base_uri": "https://localhost:8080/"
        },
        "id": "VM1I5Xaep5Zd",
        "outputId": "f6601277-b9d3-48fb-db8c-ca7ad0a6d720"
      },
      "execution_count": null,
      "outputs": [
        {
          "output_type": "stream",
          "name": "stdout",
          "text": [
            "<class 'pandas.core.series.Series'>\n",
            "<bound method Series.unique of top genre\n",
            "a cappella            12\n",
            "acoustic               9\n",
            "afro                   4\n",
            "alternative            6\n",
            "ambient               19\n",
            "classical              3\n",
            "country                5\n",
            "emo/punk              17\n",
            "folk                  50\n",
            "hip hop               80\n",
            "house                  4\n",
            "indie                 96\n",
            "latin                  5\n",
            "other                  9\n",
            "pop                  315\n",
            "r&b                   45\n",
            "rap                   32\n",
            "reggae                 3\n",
            "rock                 257\n",
            "singer-songwriter     12\n",
            "soul                  12\n",
            "dtype: int64>\n"
          ]
        }
      ]
    },
    {
      "cell_type": "code",
      "source": [
        "#make each genre a corresponding numerical value\n",
        "df['top genre'] = df['top genre'].replace({'a cappella':0, 'acoustic':1, 'afro': 2, 'alternative': 3, 'ambient': 4,'classical':5, 'country':6, 'emo/punk':7, 'folk': 8, 'hip hop': 9, 'house':10, 'indie':11, 'latin':12, 'other':13, 'pop':14, 'r&b':15, 'rap':16, 'reggae':17, 'rock':18, 'rock':19, 'singer-songwriter':20, 'soul':21, 'worship':4})"
      ],
      "metadata": {
        "id": "9TjQ2ANAyklh"
      },
      "execution_count": null,
      "outputs": []
    },
    {
      "cell_type": "code",
      "source": [
        "#scale data\n",
        "from sklearn.preprocessing import StandardScaler\n",
        "scaler = StandardScaler()\n",
        "df_train = df.drop(columns=['artist', 'title'])\n",
        "df_scaled = scaler.fit_transform(df_train)"
      ],
      "metadata": {
        "id": "2VdPPhKgwZNg"
      },
      "execution_count": null,
      "outputs": []
    },
    {
      "cell_type": "code",
      "source": [
        "from sklearn.model_selection import train_test_split\n",
        "# Creating a test and training dataset\n",
        "X = df.drop(columns=['artist', 'title', 'top genre'])\n",
        "y = df['top genre']\n",
        "X_train, X_test, y_train, y_test = train_test_split(X, y, test_size=0.30)"
      ],
      "metadata": {
        "id": "yfRO97sXrNtI"
      },
      "execution_count": null,
      "outputs": []
    },
    {
      "cell_type": "markdown",
      "source": [
        "#Feature Selection\n",
        "In order to best predict a song's genre, we determined which features are most important in doing so. We made this decision using a correlation heatmap, KMeans clustering, agglomerative clustering, feature importance, and stepwise regression. Overall, we found the following features to be most important: loudness(dB) and liveness. "
      ],
      "metadata": {
        "id": "cIQVLVBEsvTC"
      }
    },
    {
      "cell_type": "markdown",
      "source": [
        "##Correlation Heatmap\n",
        "The results of this analysis suggest that the most important features in determining a song's genre are: loudness (dB) and liveness while the least valuable features in terms of predicting a song's genre are acousticness and popularity. This section was completed using information from https://medium.com/@szabo.bibor/how-to-create-a-seaborn-correlation-heatmap-in-python-834c0686b88e."
      ],
      "metadata": {
        "id": "VhagX-r6BbWe"
      }
    },
    {
      "cell_type": "code",
      "source": [
        "import seaborn as sns\n",
        "correlation=df.corr(method='spearman')\n",
        "# heatmap of the correlation \n",
        "plt.figure(figsize=(10,10))\n",
        "plt.title('Correlation heatmap')\n",
        "sns.heatmap(correlation,annot=True,vmin=-1,vmax=1,cmap=\"GnBu_r\",center=1)"
      ],
      "metadata": {
        "colab": {
          "base_uri": "https://localhost:8080/",
          "height": 235
        },
        "id": "VxBDgUOhq025",
        "outputId": "2589e0b4-2007-4135-80ab-3fea5a81485f"
      },
      "execution_count": null,
      "outputs": [
        {
          "output_type": "error",
          "ename": "NameError",
          "evalue": "ignored",
          "traceback": [
            "\u001b[0;31m---------------------------------------------------------------------------\u001b[0m",
            "\u001b[0;31mNameError\u001b[0m                                 Traceback (most recent call last)",
            "\u001b[0;32m<ipython-input-2-22cff0a732df>\u001b[0m in \u001b[0;36m<module>\u001b[0;34m()\u001b[0m\n\u001b[1;32m      1\u001b[0m \u001b[0;32mimport\u001b[0m \u001b[0mseaborn\u001b[0m \u001b[0;32mas\u001b[0m \u001b[0msns\u001b[0m\u001b[0;34m\u001b[0m\u001b[0;34m\u001b[0m\u001b[0m\n\u001b[0;32m----> 2\u001b[0;31m \u001b[0mcorrelation\u001b[0m\u001b[0;34m=\u001b[0m\u001b[0mdf\u001b[0m\u001b[0;34m.\u001b[0m\u001b[0mcorr\u001b[0m\u001b[0;34m(\u001b[0m\u001b[0mmethod\u001b[0m\u001b[0;34m=\u001b[0m\u001b[0;34m'spearman'\u001b[0m\u001b[0;34m)\u001b[0m\u001b[0;34m\u001b[0m\u001b[0;34m\u001b[0m\u001b[0m\n\u001b[0m\u001b[1;32m      3\u001b[0m \u001b[0;31m# heatmap of the correlation\u001b[0m\u001b[0;34m\u001b[0m\u001b[0;34m\u001b[0m\u001b[0;34m\u001b[0m\u001b[0m\n\u001b[1;32m      4\u001b[0m \u001b[0mplt\u001b[0m\u001b[0;34m.\u001b[0m\u001b[0mfigure\u001b[0m\u001b[0;34m(\u001b[0m\u001b[0mfigsize\u001b[0m\u001b[0;34m=\u001b[0m\u001b[0;34m(\u001b[0m\u001b[0;36m10\u001b[0m\u001b[0;34m,\u001b[0m\u001b[0;36m10\u001b[0m\u001b[0;34m)\u001b[0m\u001b[0;34m)\u001b[0m\u001b[0;34m\u001b[0m\u001b[0;34m\u001b[0m\u001b[0m\n\u001b[1;32m      5\u001b[0m \u001b[0mplt\u001b[0m\u001b[0;34m.\u001b[0m\u001b[0mtitle\u001b[0m\u001b[0;34m(\u001b[0m\u001b[0;34m'Correlation heatmap'\u001b[0m\u001b[0;34m)\u001b[0m\u001b[0;34m\u001b[0m\u001b[0;34m\u001b[0m\u001b[0m\n",
            "\u001b[0;31mNameError\u001b[0m: name 'df' is not defined"
          ]
        }
      ]
    },
    {
      "cell_type": "markdown",
      "source": [
        "The heatmap above shows high correlations between loudness(dB) and top genre and liveness and top genre because those values are closest to 1."
      ],
      "metadata": {
        "id": "C2inLC3NFGnE"
      }
    },
    {
      "cell_type": "code",
      "source": [
        "heatmapX = df.drop(columns=['artist', 'title', 'top genre','year', 'bpm','nrgy','dnce','val','dur','acous','spch','pop'])\n",
        "heatmapy = df['top genre']\n",
        "heatX_train, heatX_test, heaty_train, heaty_test = train_test_split(heatmapX, heatmapy, test_size=0.30)"
      ],
      "metadata": {
        "id": "m2VSMyDiWJWb"
      },
      "execution_count": null,
      "outputs": []
    },
    {
      "cell_type": "markdown",
      "source": [
        "##KMeans Clustering\n",
        "The results of this analysis suggest that the most important features in determining a song's genre are: beats per minute, danceability, liveness, loudness, length, speechiness, and popularity. This section was completed using information from https://www.analyticsvidhya.com/blog/2019/08/comprehensive-guide-k-means-clustering/#h2_14."
      ],
      "metadata": {
        "id": "cs2SN0Vt44sE"
      }
    },
    {
      "cell_type": "code",
      "source": [
        "from sklearn.cluster import KMeans\n",
        "# fitting multiple k-means algorithms and storing the values in an empty list\n",
        "SSE = []\n",
        "for cluster in range(1,20):\n",
        "    kmeans = KMeans(n_clusters = cluster, init='k-means++')\n",
        "    kmeans.fit(df_scaled)\n",
        "    SSE.append(kmeans.inertia_)\n",
        "\n",
        "# converting the results into a dataframe and plotting them\n",
        "frame = pd.DataFrame({'Cluster':range(1,20), 'SSE':SSE})\n",
        "plt.figure(figsize=(12,6))\n",
        "plt.axvline(x=7, color = 'r') \n",
        "plt.axvline(x=12, color = 'r') \n",
        "plt.plot(frame['Cluster'], frame['SSE'], marker='o')\n",
        "plt.xlabel('Number of clusters')\n",
        "plt.ylabel('Inertia')"
      ],
      "metadata": {
        "id": "v8chNGlXxR1A"
      },
      "execution_count": null,
      "outputs": []
    },
    {
      "cell_type": "markdown",
      "source": [
        "Using the elbow-method in the plot above, we would say the ideal number of clusters could be anywhere between 7 and 12 (marked with red lines on the plot). "
      ],
      "metadata": {
        "id": "54yhzqOv0dvB"
      }
    },
    {
      "cell_type": "code",
      "metadata": {
        "id": "llrjiEP4yu3O"
      },
      "source": [
        "from sklearn.datasets import make_blobs\n",
        "from sklearn.cluster import KMeans\n",
        "from sklearn.metrics import silhouette_samples, silhouette_score\n",
        "import matplotlib.cm as cm\n",
        "\n",
        "range_n_clusters = [7, 8, 9, 10, 11, 12]\n",
        "\n",
        "for n_clusters in range_n_clusters:\n",
        "    # Create a subplot to print one silhouette plot per \"line\"\n",
        "    fig, ax = plt.subplots(1, 1)\n",
        "    fig.set_size_inches(18, 7)\n",
        "\n",
        "    # The silhouette coefficient can range from -1, 1 but in this example all\n",
        "    # lie within [-0.1, 1]\n",
        "    ax.set_xlim([-0.1, 1])\n",
        "    # The (n_clusters+1)*10 is for inserting blank space between silhouette\n",
        "    # plots of individual clusters, to demarcate them clearly.\n",
        "    ax.set_ylim([0, len(df_scaled) + (n_clusters + 1) * 10])\n",
        "\n",
        "    # Initialize the clusterer with n_clusters value and a random generator\n",
        "    # seed of 10 for reproducibility.\n",
        "    clusterer = KMeans(n_clusters=n_clusters, random_state=10)\n",
        "    cluster_labels = clusterer.fit_predict(df_scaled)\n",
        "\n",
        "    # The silhouette_score gives the average value for all the samples.\n",
        "    # This gives a perspective into the density and separation of the formed\n",
        "    # clusters\n",
        "    silhouette_avg = silhouette_score(df_scaled, cluster_labels)\n",
        "    print(\n",
        "        \"For n_clusters =\",\n",
        "        n_clusters,\n",
        "        \"The average silhouette_score is :\",\n",
        "        silhouette_avg,\n",
        "    )\n",
        "\n",
        "    # Compute the silhouette scores for each sample\n",
        "    sample_silhouette_values = silhouette_samples(df_scaled, cluster_labels)\n",
        "\n",
        "    y_lower = 10\n",
        "    for i in range(n_clusters):\n",
        "        # Aggregate the silhouette scores for samples belonging to\n",
        "        # cluster i, and sort them\n",
        "        ith_cluster_silhouette_values = sample_silhouette_values[cluster_labels == i]\n",
        "\n",
        "        ith_cluster_silhouette_values.sort()\n",
        "\n",
        "        size_cluster_i = ith_cluster_silhouette_values.shape[0]\n",
        "        y_upper = y_lower + size_cluster_i\n",
        "\n",
        "        color = cm.nipy_spectral(float(i) / n_clusters)\n",
        "        ax.fill_betweenx(\n",
        "            np.arange(y_lower, y_upper),\n",
        "            0,\n",
        "            ith_cluster_silhouette_values,\n",
        "            facecolor=color,\n",
        "            edgecolor=color,\n",
        "            alpha=0.7,\n",
        "        )\n",
        "\n",
        "        # Label the silhouette plots with their cluster numbers at the middle\n",
        "        ax.text(-0.05, y_lower + 0.5 * size_cluster_i, str(i))\n",
        "\n",
        "        # Compute the new y_lower for next plot\n",
        "        y_lower = y_upper + 10  # 10 for the 0 samples\n",
        "\n",
        "    ax.set_title(\"The silhouette plot for the various clusters.\")\n",
        "    ax.set_xlabel(\"The silhouette coefficient values\")\n",
        "    ax.set_ylabel(\"Cluster label\")\n",
        "\n",
        "    # The vertical line for average silhouette score of all the values\n",
        "    ax.axvline(x=silhouette_avg, color=\"red\", linestyle=\"--\")\n",
        "\n",
        "    ax.set_yticks([])  # Clear the yaxis labels / ticks\n",
        "    ax.set_xticks([-0.1, 0, 0.2, 0.4, 0.6, 0.8, 1])\n",
        "\n",
        "    plt.suptitle(\n",
        "        \"Silhouette analysis for KMeans clustering on sample data with n_clusters = %d\"\n",
        "        % n_clusters,\n",
        "        fontsize=14,\n",
        "        fontweight=\"bold\",\n",
        "    )\n",
        "\n",
        "plt.show()"
      ],
      "execution_count": null,
      "outputs": []
    },
    {
      "cell_type": "markdown",
      "source": [
        "The silhouette analysis above suggests that 11 clusters would be ideal because all the silhouettes have a coefficient equal to or above the average silhouette score, and the silhouettes are roughly close in size in comparison to the analyses using different amounts of clusters."
      ],
      "metadata": {
        "id": "ELoxR8u_2K6Y"
      }
    },
    {
      "cell_type": "code",
      "metadata": {
        "id": "E85NxTqNyu3N"
      },
      "source": [
        "kmeans = KMeans(n_clusters = 11, init='k-means++', random_state = 123)\n",
        "kmeans.fit(df_scaled)\n",
        "pred = kmeans.predict(df_scaled)"
      ],
      "execution_count": null,
      "outputs": []
    },
    {
      "cell_type": "code",
      "metadata": {
        "id": "ze8bIDu3yu3O"
      },
      "source": [
        "frame = pd.DataFrame(df_scaled)\n",
        "frame['cluster'] = pred\n",
        "\n",
        "\n",
        "#create new dataframe to use in boxplots\n",
        "KMean = df.copy()\n",
        "KMean['KCluster'] = frame['cluster']\n",
        "\n",
        "frame['cluster'].value_counts()"
      ],
      "execution_count": null,
      "outputs": []
    },
    {
      "cell_type": "code",
      "metadata": {
        "id": "WwOdv52eyu3P"
      },
      "source": [
        "#output resulting clusters\n",
        "import seaborn as sns\n",
        "sns.set(rc={'figure.figsize':(11.7,8.27)})\n",
        "sns.boxplot(KMean.KCluster, KMean.bpm).set(title = 'Beats Per Minute')\n",
        "plt.show()\n",
        "sns.boxplot(KMean.KCluster, KMean.nrgy).set(title = 'Energy')\n",
        "plt.show()\n",
        "sns.boxplot(KMean.KCluster, KMean.dnce).set(title = 'Danceability')\n",
        "plt.show()\n",
        "sns.boxplot(KMean.KCluster, KMean.dB).set(title = 'Loudness')\n",
        "plt.show()\n",
        "sns.boxplot(KMean.KCluster, KMean.live).set(title = 'Liveness')\n",
        "plt.show()\n",
        "sns.boxplot(KMean.KCluster, KMean.val).set(title = 'Valence')\n",
        "plt.show()\n",
        "sns.boxplot(KMean.KCluster, KMean.dur).set(title = 'Duration')\n",
        "plt.show()\n",
        "sns.boxplot(KMean.KCluster, KMean.acous).set(title = 'Accousticness')\n",
        "plt.show()\n",
        "sns.boxplot(KMean.KCluster, KMean.spch).set(title = 'Speechiness')\n",
        "plt.show()"
      ],
      "execution_count": null,
      "outputs": []
    },
    {
      "cell_type": "markdown",
      "source": [
        "In the boxplots above, we can see that clusters 3 and 4 have very high variance in every variable, so we will disregard those clusters in our feature analysis. Most of the variable plots are fairly similar in variance, but acousticness, valence, and energy have the highest variance overall. When using clustering to determine feature importance, we want the features with the least variance, so we would drop acousticness, valence, and energy using this clustering analysis."
      ],
      "metadata": {
        "id": "vCo6ti3kFhZZ"
      }
    },
    {
      "cell_type": "code",
      "source": [
        "KMeansX = df.drop(columns=['artist', 'title', 'top genre','nrgy','val','acous'])\n",
        "KMeansy = df['top genre']\n",
        "KMeansX_train, KMeansX_test, KMeansy_train, KMeansy_test = train_test_split(KMeansX, KMeansy, test_size=0.30)"
      ],
      "metadata": {
        "id": "AXSA8MEFXaB8"
      },
      "execution_count": null,
      "outputs": []
    },
    {
      "cell_type": "markdown",
      "source": [
        "##Agglomerative Clustering\n",
        "The results of this analysis suggest that the most important features in determining a song's genre are: loudness, duration, and energy.  This section was performed using information from https://stackabuse.com/hierarchical-clustering-with-python-and-scikit-learn/."
      ],
      "metadata": {
        "id": "kQBa1CGl47yu"
      }
    },
    {
      "cell_type": "code",
      "metadata": {
        "id": "eXifaWNMQxRw"
      },
      "source": [
        "import scipy.cluster.hierarchy as shc\n",
        "plt.figure(figsize=(10, 7))  \n",
        "plt.title(\"Dendrogram\")  \n",
        "dend = shc.dendrogram(shc.linkage(df_scaled, method='ward'))\n",
        "plt.show()\n",
        "plt.figure(figsize=(10, 7))  \n",
        "plt.title(\"Dendrogram with Horizontal Line(K)\")  \n",
        "dend = shc.dendrogram(shc.linkage(df_scaled, method='ward'))\n",
        "plt.axhline(y=18, color = 'black')\n",
        "plt.show()"
      ],
      "execution_count": null,
      "outputs": []
    },
    {
      "cell_type": "markdown",
      "source": [
        "Using the dendogram method above, we decide on 12 clusters because the horizontal line we drew crosses 12 vertical lines."
      ],
      "metadata": {
        "id": "PItoRZLg42NO"
      }
    },
    {
      "cell_type": "code",
      "metadata": {
        "id": "7Bu0rtQYlFQo"
      },
      "source": [
        "from sklearn.cluster import AgglomerativeClustering\n",
        "\n",
        "cluster = AgglomerativeClustering(n_clusters=12, affinity='euclidean', linkage='ward')\n",
        "cluster.fit_predict(df_scaled)\n",
        "b = cluster.fit_predict(df_scaled)\n",
        "\n",
        "frame2 = pd.DataFrame(df_scaled)\n",
        "frame2['cluster'] = b\n",
        "\n",
        "#create new dataframe to use in boxplots\n",
        "Agg = df.copy()\n",
        "Agg['HCluster'] = b\n",
        "\n",
        "frame2['cluster'].value_counts()\n"
      ],
      "execution_count": null,
      "outputs": []
    },
    {
      "cell_type": "code",
      "source": [
        "print(Agg.dur)"
      ],
      "metadata": {
        "id": "scHDj-1jkHi8"
      },
      "execution_count": null,
      "outputs": []
    },
    {
      "cell_type": "code",
      "metadata": {
        "id": "uTyUq8oY6jhH"
      },
      "source": [
        "#output resulting clusters\n",
        "import seaborn as sns\n",
        "sns.set(rc={'figure.figsize':(11.7,8.27)})\n",
        "sns.boxplot(Agg.HCluster, Agg.bpm).set(title = 'Beats Per Minute')\n",
        "plt.show()\n",
        "sns.boxplot(Agg.HCluster, Agg.nrgy).set(title = 'Energy')\n",
        "plt.show()\n",
        "sns.boxplot(Agg.HCluster, Agg.dnce).set(title = 'Danceability')\n",
        "plt.show()\n",
        "sns.boxplot(Agg.HCluster, Agg.dB).set(title = 'Loudness')\n",
        "plt.show()\n",
        "sns.boxplot(Agg.HCluster, Agg.live).set(title = 'Liveness')\n",
        "plt.show()\n",
        "sns.boxplot(Agg.HCluster, Agg.val).set(title = 'Valence')\n",
        "plt.show()\n",
        "sns.boxplot(Agg.HCluster, Agg.dur).set(title = 'Duration')\n",
        "plt.show()\n",
        "sns.boxplot(Agg.HCluster, Agg.acous).set(title = 'Accousticness')\n",
        "plt.show()\n",
        "sns.boxplot(Agg.HCluster, Agg.spch).set(title = 'Speechiness')\n",
        "plt.show()"
      ],
      "execution_count": null,
      "outputs": []
    },
    {
      "cell_type": "markdown",
      "source": [
        "When using clustering to determine feature importance, we want the features with the least variance. The boxplots above suggest that loudness, duration, and energy have the least variance because the boxplots are roughly the smallest, so we would choose these features as most important."
      ],
      "metadata": {
        "id": "QLDaV2GgJLVU"
      }
    },
    {
      "cell_type": "code",
      "source": [
        "aggX = df.drop(columns=['artist', 'title', 'top genre','year', 'bpm', 'live', 'dnce','val','acous','spch','pop'])\n",
        "aggy = df['top genre']\n",
        "aggX_train, aggX_test, aggy_train, aggy_test = train_test_split(aggX, aggy, test_size=0.30)"
      ],
      "metadata": {
        "id": "jGQVZNxiX3Lm"
      },
      "execution_count": null,
      "outputs": []
    },
    {
      "cell_type": "markdown",
      "source": [
        "##Feature Importance Using Random Forests\n",
        "The results of this analysis suggest that the most important features in determining a song's genre are: acousticness, popularity, year, and danceability.\n",
        "\n",
        "This analysis was completed using information from https://vitalflux.com/feature-importance-random-forest-classifier-python/."
      ],
      "metadata": {
        "id": "SSSaVgSv4q67"
      }
    },
    {
      "cell_type": "code",
      "metadata": {
        "id": "R6zu7kpIZd7j"
      },
      "source": [
        "from sklearn.ensemble import RandomForestRegressor\n",
        "rf = RandomForestRegressor(n_estimators=100)\n",
        "rf.fit(X_train, y_train)"
      ],
      "execution_count": null,
      "outputs": []
    },
    {
      "cell_type": "code",
      "metadata": {
        "id": "UB668PDgaDMa"
      },
      "source": [
        "importances = rf.feature_importances_\n",
        "sorted_indices = np.argsort(importances)[::-1]"
      ],
      "execution_count": null,
      "outputs": []
    },
    {
      "cell_type": "code",
      "source": [
        "plt.title('Feature Importance')\n",
        "plt.bar(range(X_train.shape[1]), importances[sorted_indices], align='center')\n",
        "plt.xticks(range(X_train.shape[1]), X_train.columns[sorted_indices], rotation=90)\n",
        "plt.tight_layout()\n",
        "plt.show()"
      ],
      "metadata": {
        "id": "33LJRCojVRPw"
      },
      "execution_count": null,
      "outputs": []
    },
    {
      "cell_type": "markdown",
      "source": [
        "Using Random Forest Feature Importance, we can see that the most important features are acousticness, popularity, year, and danceability."
      ],
      "metadata": {
        "id": "hYKWNljBKdDh"
      }
    },
    {
      "cell_type": "code",
      "source": [
        "rfX = df.drop(columns=['artist', 'title', 'top genre','bpm', 'dB', 'live', 'nrgy','val','dur','spch'])\n",
        "rfy = df['top genre']\n",
        "rfX_train, rfX_test, rfy_train, rfy_test = train_test_split(rfX, rfy, test_size=0.30)"
      ],
      "metadata": {
        "id": "4N-NVSRyY_fQ"
      },
      "execution_count": null,
      "outputs": []
    },
    {
      "cell_type": "markdown",
      "source": [
        "##Stepwise Regression\n",
        "The results of this analysis suggest that the most important features in determining a song's genre are: liveness and accousticness. "
      ],
      "metadata": {
        "id": "H7lo31ja4wqF"
      }
    },
    {
      "cell_type": "code",
      "metadata": {
        "id": "XXg0CdGhhTiX"
      },
      "source": [
        "import statsmodels.api as sm\n",
        "#perform stepwise selection on variables\n",
        "def stepwise_selection(X, y, \n",
        "                       initial_list=[], \n",
        "                       threshold_in=0.01, \n",
        "                       threshold_out = 0.05, \n",
        "                       verbose=True):\n",
        "    included = list(initial_list)\n",
        "    while True:\n",
        "        changed=False\n",
        "        # forward step\n",
        "        excluded = list(set(X.columns)-set(included))\n",
        "        new_pval = pd.Series(index=excluded)\n",
        "        for new_column in excluded:\n",
        "            model = sm.OLS(y, sm.add_constant(pd.DataFrame(X[included+[new_column]]))).fit()\n",
        "            new_pval[new_column] = model.pvalues[new_column]\n",
        "        best_pval = new_pval.min()\n",
        "        if best_pval < threshold_in:\n",
        "#            best_feature = new_pval.argmin()\n",
        "            best_feature = new_pval.idxmin()\n",
        "            included.append(best_feature)\n",
        "            changed=True\n",
        "            if verbose:\n",
        "                print('Add  {:30} with p-value {:.6}'.format(best_feature, best_pval))\n",
        "\n",
        "        # backward step\n",
        "        model = sm.OLS(y, sm.add_constant(pd.DataFrame(X[included]))).fit()\n",
        "        # use all coefs except intercept\n",
        "        pvalues = model.pvalues.iloc[1:]\n",
        "        worst_pval = pvalues.max() # null if pvalues is empty\n",
        "        if worst_pval > threshold_out:\n",
        "            changed=True\n",
        "            worst_feature = pvalues.argmax()\n",
        "            included.remove(worst_feature)\n",
        "            if verbose:\n",
        "                print('Drop {:30} with p-value {:.6}'.format(worst_feature, worst_pval))\n",
        "        if not changed:\n",
        "            break\n",
        "    return included\n",
        "\n",
        "result = stepwise_selection(X, y)\n",
        "\n",
        "print('resulting features:')\n",
        "print(result)"
      ],
      "execution_count": null,
      "outputs": []
    },
    {
      "cell_type": "markdown",
      "source": [
        "The output following 'resulting features:' tells us that stepwise regression deemed liveness and acousticness to be the most important features in determining a song's genre."
      ],
      "metadata": {
        "id": "42GPGeQZSWfW"
      }
    },
    {
      "cell_type": "code",
      "source": [
        "sX = df.drop(columns=['artist', 'title', 'top genre','bpm', 'dB', 'nrgy','val','dur','spch','pop','year','dnce'])\n",
        "sy = df['top genre']\n",
        "sX_train, sX_test, sy_train, sy_test = train_test_split(sX, sy, test_size=0.30)"
      ],
      "metadata": {
        "id": "kDFVBz1BZQmB"
      },
      "execution_count": null,
      "outputs": []
    },
    {
      "cell_type": "markdown",
      "source": [
        "#Models\n",
        "Now, we will put our selected features to work in three different classification models: Random Forest, K Nearest Neighbors(KNN), and Multinomial Logistic Regression. We will train and make predictions on each of the three models using the selected features from each of the five feature selection techniques. Then, we will plot their accuracy to determine which feature selection techniques and which models were most successful in predicting a song's genre."
      ],
      "metadata": {
        "id": "28cYCy1hWDVD"
      }
    },
    {
      "cell_type": "code",
      "source": [
        "name_array = ['Original', 'HeatMap', 'KMeans Clustering', 'Agglomerative Clustering', 'Feature Importance', 'Stepwise Regression']"
      ],
      "metadata": {
        "id": "zD5PIamvFZSC"
      },
      "execution_count": null,
      "outputs": []
    },
    {
      "cell_type": "markdown",
      "source": [
        "##Random Forest Classifier\n",
        "This section was completed using information from https://www.datacamp.com/community/tutorials/random-forests-classifier-python. The results of this section showed that using no feature selection was the most accurate when training this model."
      ],
      "metadata": {
        "id": "goeIUicZ6qS_"
      }
    },
    {
      "cell_type": "code",
      "source": [
        "from sklearn.ensemble import RandomForestClassifier\n",
        "clf =RandomForestClassifier(n_estimators=100)"
      ],
      "metadata": {
        "id": "hWi-Wzo51lz7"
      },
      "execution_count": null,
      "outputs": []
    },
    {
      "cell_type": "code",
      "source": [
        "from sklearn.ensemble import RandomForestClassifier\n",
        "rfc = RandomForestClassifier(n_estimators=100)\n",
        "rfc.fit(X_train,y_train)\n",
        "RFheatmap = RandomForestClassifier(n_estimators=100)\n",
        "RFheatmap.fit(heatX_train,heaty_train)\n",
        "RFKM = RandomForestClassifier(n_estimators=100)\n",
        "RFKM.fit(KMeansX_train,KMeansy_train)\n",
        "RFagg = RandomForestClassifier(n_estimators=100)\n",
        "RFagg.fit(aggX_train,aggy_train)\n",
        "RFrf = RandomForestClassifier(n_estimators=100)\n",
        "RFrf.fit(rfX_train,rfy_train)\n",
        "RFs = RandomForestClassifier(n_estimators=100)\n",
        "RFs.fit(sX_train,sy_train)"
      ],
      "metadata": {
        "colab": {
          "base_uri": "https://localhost:8080/"
        },
        "id": "jU6gE6yeWEwh",
        "outputId": "694ee073-0cea-40fc-ba5d-5778dfa6b5f9"
      },
      "execution_count": null,
      "outputs": [
        {
          "output_type": "execute_result",
          "data": {
            "text/plain": [
              "RandomForestClassifier()"
            ]
          },
          "metadata": {},
          "execution_count": 64
        }
      ]
    },
    {
      "cell_type": "code",
      "source": [
        "#make predicitions using model\n",
        "from sklearn import metrics\n",
        "RFrfc_pred = rfc.predict(X_test)\n",
        "RF_acc = metrics.accuracy_score(y_test, RFrfc_pred)\n",
        "print(\"Original Accuracy:\",RF_acc)\n",
        "RFheat_pred = RFheatmap.predict(heatX_test)\n",
        "RFheat_acc = metrics.accuracy_score(heaty_test, RFheat_pred)\n",
        "print(\"HeatMap Accuracy:\",RFheat_acc)\n",
        "RFKM_pred = RFKM.predict(KMeansX_test)\n",
        "RFKM_acc = metrics.accuracy_score(KMeansy_test, RFKM_pred)\n",
        "print(\"KMeans Clustering Accuracy:\",RFKM_acc)\n",
        "RFagg_pred = RFagg.predict(aggX_test)\n",
        "RFagg_acc = metrics.accuracy_score(aggy_test, RFagg_pred)\n",
        "print(\"Aggregate Clustering Accuracy:\",RFagg_acc)\n",
        "RFrf_pred = RFrf.predict(rfX_test)\n",
        "RFrf_acc = metrics.accuracy_score(rfy_test, RFrf_pred)\n",
        "print(\"Random Forest Accuracy:\",RFrf_acc)\n",
        "RFs_pred = RFs.predict(sX_test)\n",
        "RFs_acc = metrics.accuracy_score(sy_test, RFs_pred)\n",
        "print(\"Stepwise Regression Accuracy:\",RFs_acc)"
      ],
      "metadata": {
        "colab": {
          "base_uri": "https://localhost:8080/"
        },
        "id": "eQ2bc2afapnX",
        "outputId": "f9bb8626-053b-4228-e799-dfc9f391b5fe"
      },
      "execution_count": null,
      "outputs": [
        {
          "output_type": "stream",
          "name": "stdout",
          "text": [
            "Original Accuracy: 0.4983277591973244\n",
            "HeatMap Accuracy: 0.33444816053511706\n",
            "KMeans Clustering Accuracy: 0.47157190635451507\n",
            "Aggregate Clustering Accuracy: 0.4013377926421405\n",
            "Random Forest Accuracy: 0.42474916387959866\n",
            "Stepwise Regression Accuracy: 0.39464882943143814\n"
          ]
        }
      ]
    },
    {
      "cell_type": "code",
      "source": [
        "RFacc = [RF_acc,RFheat_acc,RFKM_acc,RFagg_acc,RFrf_acc,RFs_acc]\n",
        "RFacc = pd.DataFrame(RFacc)\n",
        "RFacc.insert(0,'Selection Technique', name_array, True)\n",
        "RFacc.head()"
      ],
      "metadata": {
        "colab": {
          "base_uri": "https://localhost:8080/",
          "height": 204
        },
        "id": "sqjpWm2xF86d",
        "outputId": "70c6679c-0748-4c73-eb9a-04408ee3f8ca"
      },
      "execution_count": null,
      "outputs": [
        {
          "output_type": "execute_result",
          "data": {
            "text/html": [
              "<div>\n",
              "<style scoped>\n",
              "    .dataframe tbody tr th:only-of-type {\n",
              "        vertical-align: middle;\n",
              "    }\n",
              "\n",
              "    .dataframe tbody tr th {\n",
              "        vertical-align: top;\n",
              "    }\n",
              "\n",
              "    .dataframe thead th {\n",
              "        text-align: right;\n",
              "    }\n",
              "</style>\n",
              "<table border=\"1\" class=\"dataframe\">\n",
              "  <thead>\n",
              "    <tr style=\"text-align: right;\">\n",
              "      <th></th>\n",
              "      <th>Selection Technique</th>\n",
              "      <th>0</th>\n",
              "    </tr>\n",
              "  </thead>\n",
              "  <tbody>\n",
              "    <tr>\n",
              "      <th>0</th>\n",
              "      <td>Original</td>\n",
              "      <td>0.498328</td>\n",
              "    </tr>\n",
              "    <tr>\n",
              "      <th>1</th>\n",
              "      <td>HeatMap</td>\n",
              "      <td>0.334448</td>\n",
              "    </tr>\n",
              "    <tr>\n",
              "      <th>2</th>\n",
              "      <td>KMeans Clustering</td>\n",
              "      <td>0.471572</td>\n",
              "    </tr>\n",
              "    <tr>\n",
              "      <th>3</th>\n",
              "      <td>Agglomerative Clustering</td>\n",
              "      <td>0.401338</td>\n",
              "    </tr>\n",
              "    <tr>\n",
              "      <th>4</th>\n",
              "      <td>Feature Importance</td>\n",
              "      <td>0.424749</td>\n",
              "    </tr>\n",
              "  </tbody>\n",
              "</table>\n",
              "</div>"
            ],
            "text/plain": [
              "        Selection Technique         0\n",
              "0                  Original  0.498328\n",
              "1                   HeatMap  0.334448\n",
              "2         KMeans Clustering  0.471572\n",
              "3  Agglomerative Clustering  0.401338\n",
              "4        Feature Importance  0.424749"
            ]
          },
          "metadata": {},
          "execution_count": 66
        }
      ]
    },
    {
      "cell_type": "code",
      "source": [
        "RFaccplot = RFacc.plot(kind=\"bar\")\n",
        "plt.title(\"Random Forest Classifier Results\",fontsize=16)\n",
        "plt.xlabel(\"Feature Selection Technique\",fontsize=12)\n",
        "plt.ylabel(\"Accuracy Score\",fontsize=12)\n",
        "plt.xticks([0,1,2,3,4,5], name_array, fontsize=10)\n",
        "RFaccplot.get_legend().remove()"
      ],
      "metadata": {
        "colab": {
          "base_uri": "https://localhost:8080/",
          "height": 652
        },
        "id": "3gbdFumqY8Nk",
        "outputId": "dce190b6-895b-4da4-9bed-5a1dac48e262"
      },
      "execution_count": null,
      "outputs": [
        {
          "output_type": "display_data",
          "data": {
            "image/png": "[encoded data removed]",
            "text/plain": [
              "<Figure size 842.4x595.44 with 1 Axes>"
            ]
          },
          "metadata": {}
        }
      ]
    },
    {
      "cell_type": "markdown",
      "source": [
        "##K Nearest Neighbors (KNN)\n",
        "The results of this section showed that using no feature selection was the most accurate when training this model."
      ],
      "metadata": {
        "id": "aAQbHypj7FhP"
      }
    },
    {
      "cell_type": "code",
      "source": [
        "k = 4  \n",
        "neigh = KNeighborsClassifier(n_neighbors = k).fit(X_train,y_train)\n",
        "Pred_y = neigh.predict(X_test)\n",
        "print(\"Accuracy of model at K=4 is\",metrics.accuracy_score(y_test, Pred_y))\n",
        "k = 5  \n",
        "neigh = KNeighborsClassifier(n_neighbors = k).fit(X_train,y_train)\n",
        "Pred_y = neigh.predict(X_test)\n",
        "print(\"Accuracy of model at K=5 is\",metrics.accuracy_score(y_test, Pred_y))\n",
        "k = 6  \n",
        "neigh = KNeighborsClassifier(n_neighbors = k).fit(X_train,y_train)\n",
        "Pred_y = neigh.predict(X_test)\n",
        "print(\"Accuracy of model at K=6 is\",metrics.accuracy_score(y_test, Pred_y))\n",
        "k = 7  \n",
        "neigh = KNeighborsClassifier(n_neighbors = k).fit(X_train,y_train)\n",
        "Pred_y = neigh.predict(X_test)\n",
        "print(\"Accuracy of model at K=7 is\",metrics.accuracy_score(y_test, Pred_y))\n",
        "k = 8  \n",
        "neigh = KNeighborsClassifier(n_neighbors = k).fit(X_train,y_train)\n",
        "Pred_y = neigh.predict(X_test)\n",
        "print(\"Accuracy of model at K=8 is\",metrics.accuracy_score(y_test, Pred_y))"
      ],
      "metadata": {
        "colab": {
          "base_uri": "https://localhost:8080/"
        },
        "id": "Cp_tqZ5QWM9U",
        "outputId": "aae40488-2cc6-4781-bf0e-aae5f0f20ed1"
      },
      "execution_count": null,
      "outputs": [
        {
          "output_type": "stream",
          "name": "stdout",
          "text": [
            "Accuracy of model at K=4 is 0.36454849498327757\n",
            "Accuracy of model at K=5 is 0.34448160535117056\n",
            "Accuracy of model at K=6 is 0.391304347826087\n",
            "Accuracy of model at K=7 is 0.3979933110367893\n",
            "Accuracy of model at K=8 is 0.38461538461538464\n"
          ]
        }
      ]
    },
    {
      "cell_type": "code",
      "source": [
        "from sklearn.neighbors import KNeighborsClassifier\n",
        "knn_clf = KNeighborsClassifier(n_neighbors=7)\n",
        "knn_clf.fit(X_train,y_train)\n",
        "knn_heatmap = KNeighborsClassifier(n_neighbors=7)\n",
        "knn_heatmap.fit(heatX_train,heaty_train)\n",
        "knn_KM = KNeighborsClassifier(n_neighbors=7)\n",
        "knn_KM.fit(KMeansX_train,KMeansy_train)\n",
        "knn_agg = KNeighborsClassifier(n_neighbors=7)\n",
        "knn_agg.fit(aggX_train,aggy_train)\n",
        "knn_rf = KNeighborsClassifier(n_neighbors=7)\n",
        "knn_rf.fit(rfX_train,rfy_train)\n",
        "knn_s = KNeighborsClassifier(n_neighbors=7)\n",
        "knn_s.fit(sX_train,sy_train)"
      ],
      "metadata": {
        "colab": {
          "base_uri": "https://localhost:8080/"
        },
        "id": "zOypfIF-7Idf",
        "outputId": "071c7d0a-010a-4c44-ddc3-b43fc865f1e5"
      },
      "execution_count": null,
      "outputs": [
        {
          "output_type": "execute_result",
          "data": {
            "text/plain": [
              "KNeighborsClassifier(n_neighbors=7)"
            ]
          },
          "metadata": {},
          "execution_count": 69
        }
      ]
    },
    {
      "cell_type": "code",
      "source": [
        "#make predicitions using model\n",
        "knn_clf_pred = knn_clf.predict(X_test)\n",
        "knn_acc = metrics.accuracy_score(y_test, knn_clf_pred)\n",
        "print(\"Original Accuracy:\",knn_acc)\n",
        "knn_heatmap_pred = knn_heatmap.predict(heatX_test)\n",
        "knn_heatmap_acc = metrics.accuracy_score(heaty_test, knn_heatmap_pred)\n",
        "print(\"HeatMap Accuracy:\",knn_heatmap_acc)\n",
        "knn_KM_pred = knn_KM.predict(KMeansX_test)\n",
        "knn_KM_acc = metrics.accuracy_score(KMeansy_test, knn_KM_pred)\n",
        "print(\"KMeans Clustering Accuracy:\",knn_KM_acc)\n",
        "knn_agg_pred = knn_agg.predict(aggX_test)\n",
        "knn_agg_acc = metrics.accuracy_score(aggy_test, knn_agg_pred)\n",
        "print(\"Aggregate Clustering Accuracy:\",knn_agg_acc)\n",
        "knn_rf_pred = knn_rf.predict(rfX_test)\n",
        "knn_rf_acc = metrics.accuracy_score(rfy_test, knn_rf_pred)\n",
        "print(\"Random Forest Accuracy:\",knn_rf_acc)\n",
        "knn_s_pred = knn_s.predict(sX_test)\n",
        "knn_s_acc = metrics.accuracy_score(sy_test, knn_s_pred)\n",
        "print(\"Stepwise Regression Accuracy:\",knn_s_acc)"
      ],
      "metadata": {
        "colab": {
          "base_uri": "https://localhost:8080/"
        },
        "id": "yMWLksxT8T51",
        "outputId": "faca4924-e410-44eb-e9e3-5af18ced2f10"
      },
      "execution_count": null,
      "outputs": [
        {
          "output_type": "stream",
          "name": "stdout",
          "text": [
            "Original Accuracy: 0.3979933110367893\n",
            "HeatMap Accuracy: 0.34448160535117056\n",
            "KMeans Clustering Accuracy: 0.38461538461538464\n",
            "Aggregate Clustering Accuracy: 0.34448160535117056\n",
            "Random Forest Accuracy: 0.3745819397993311\n",
            "Stepwise Regression Accuracy: 0.3712374581939799\n"
          ]
        }
      ]
    },
    {
      "cell_type": "code",
      "source": [
        "KNNacc = [knn_acc,knn_heatmap_acc,knn_KM_acc,knn_agg_acc,knn_rf_acc,knn_s_acc]\n",
        "KNNacc = pd.DataFrame(KNNacc)\n",
        "KNNacc.insert(0,'Selection Technique', name_array, True)\n",
        "KNNacc.head()"
      ],
      "metadata": {
        "colab": {
          "base_uri": "https://localhost:8080/",
          "height": 204
        },
        "id": "Ky6jAkJQGL3v",
        "outputId": "79d7c177-6084-4f54-c04c-8e4265c4c623"
      },
      "execution_count": null,
      "outputs": [
        {
          "output_type": "execute_result",
          "data": {
            "text/html": [
              "<div>\n",
              "<style scoped>\n",
              "    .dataframe tbody tr th:only-of-type {\n",
              "        vertical-align: middle;\n",
              "    }\n",
              "\n",
              "    .dataframe tbody tr th {\n",
              "        vertical-align: top;\n",
              "    }\n",
              "\n",
              "    .dataframe thead th {\n",
              "        text-align: right;\n",
              "    }\n",
              "</style>\n",
              "<table border=\"1\" class=\"dataframe\">\n",
              "  <thead>\n",
              "    <tr style=\"text-align: right;\">\n",
              "      <th></th>\n",
              "      <th>Selection Technique</th>\n",
              "      <th>0</th>\n",
              "    </tr>\n",
              "  </thead>\n",
              "  <tbody>\n",
              "    <tr>\n",
              "      <th>0</th>\n",
              "      <td>Original</td>\n",
              "      <td>0.397993</td>\n",
              "    </tr>\n",
              "    <tr>\n",
              "      <th>1</th>\n",
              "      <td>HeatMap</td>\n",
              "      <td>0.344482</td>\n",
              "    </tr>\n",
              "    <tr>\n",
              "      <th>2</th>\n",
              "      <td>KMeans Clustering</td>\n",
              "      <td>0.384615</td>\n",
              "    </tr>\n",
              "    <tr>\n",
              "      <th>3</th>\n",
              "      <td>Agglomerative Clustering</td>\n",
              "      <td>0.344482</td>\n",
              "    </tr>\n",
              "    <tr>\n",
              "      <th>4</th>\n",
              "      <td>Feature Importance</td>\n",
              "      <td>0.374582</td>\n",
              "    </tr>\n",
              "  </tbody>\n",
              "</table>\n",
              "</div>"
            ],
            "text/plain": [
              "        Selection Technique         0\n",
              "0                  Original  0.397993\n",
              "1                   HeatMap  0.344482\n",
              "2         KMeans Clustering  0.384615\n",
              "3  Agglomerative Clustering  0.344482\n",
              "4        Feature Importance  0.374582"
            ]
          },
          "metadata": {},
          "execution_count": 71
        }
      ]
    },
    {
      "cell_type": "code",
      "source": [
        "KNNaccplot = KNNacc.plot(kind=\"bar\")\n",
        "plt.title(\"KNN Results\",fontsize=16)\n",
        "plt.xlabel(\"Feature Selection Technique\",fontsize=12)\n",
        "plt.ylabel(\"Accuracy Score\",fontsize=12)\n",
        "plt.xticks([0,1,2,3,4,5], name_array, fontsize=10)\n",
        "KNNaccplot.get_legend().remove()"
      ],
      "metadata": {
        "colab": {
          "base_uri": "https://localhost:8080/",
          "height": 652
        },
        "id": "5GX2fLe6Yiau",
        "outputId": "ead2bb1f-189a-4f81-9db7-0aed4408968b"
      },
      "execution_count": null,
      "outputs": [
        {
          "output_type": "display_data",
          "data": {
            "image/png": "[encoded data removed]",
            "text/plain": [
              "<Figure size 842.4x595.44 with 1 Axes>"
            ]
          },
          "metadata": {}
        }
      ]
    },
    {
      "cell_type": "markdown",
      "source": [
        "##Multinomial Logistic Regression\n",
        "The results of this section showed that using no feature selection or using heatmap correlation were equally the most accurate when training this model."
      ],
      "metadata": {
        "id": "0YxPHfZq-Dmd"
      }
    },
    {
      "cell_type": "code",
      "source": [
        "from sklearn.linear_model import LogisticRegression\n",
        "lr_clf = LogisticRegression(multi_class='multinomial', solver='lbfgs')\n",
        "lr_clf.fit(X_train,y_train)\n",
        "lr_heatmap = LogisticRegression(multi_class='multinomial', solver='lbfgs')\n",
        "lr_heatmap.fit(heatX_train,heaty_train)\n",
        "lr_KM = LogisticRegression(multi_class='multinomial', solver='lbfgs')\n",
        "lr_KM.fit(KMeansX_train,KMeansy_train)\n",
        "lr_agg = LogisticRegression(multi_class='multinomial', solver='lbfgs')\n",
        "lr_agg.fit(aggX_train,aggy_train)\n",
        "lr_rf = LogisticRegression(multi_class='multinomial', solver='lbfgs')\n",
        "lr_rf.fit(rfX_train,rfy_train)\n",
        "lr_s = LogisticRegression(multi_class='multinomial', solver='lbfgs')\n",
        "lr_s.fit(sX_train,sy_train)"
      ],
      "metadata": {
        "colab": {
          "base_uri": "https://localhost:8080/"
        },
        "id": "n3LCJvOh-Gmd",
        "outputId": "0e09c9fc-83ed-486b-9c3f-04e4028ffa23"
      },
      "execution_count": null,
      "outputs": [
        {
          "output_type": "stream",
          "name": "stderr",
          "text": [
            "/usr/local/lib/python3.7/dist-packages/sklearn/linear_model/_logistic.py:818: ConvergenceWarning: lbfgs failed to converge (status=1):\n",
            "STOP: TOTAL NO. of ITERATIONS REACHED LIMIT.\n",
            "\n",
            "Increase the number of iterations (max_iter) or scale the data as shown in:\n",
            "    https://scikit-learn.org/stable/modules/preprocessing.html\n",
            "Please also refer to the documentation for alternative solver options:\n",
            "    https://scikit-learn.org/stable/modules/linear_model.html#logistic-regression\n",
            "  extra_warning_msg=_LOGISTIC_SOLVER_CONVERGENCE_MSG,\n",
            "/usr/local/lib/python3.7/dist-packages/sklearn/linear_model/_logistic.py:818: ConvergenceWarning: lbfgs failed to converge (status=1):\n",
            "STOP: TOTAL NO. of ITERATIONS REACHED LIMIT.\n",
            "\n",
            "Increase the number of iterations (max_iter) or scale the data as shown in:\n",
            "    https://scikit-learn.org/stable/modules/preprocessing.html\n",
            "Please also refer to the documentation for alternative solver options:\n",
            "    https://scikit-learn.org/stable/modules/linear_model.html#logistic-regression\n",
            "  extra_warning_msg=_LOGISTIC_SOLVER_CONVERGENCE_MSG,\n",
            "/usr/local/lib/python3.7/dist-packages/sklearn/linear_model/_logistic.py:818: ConvergenceWarning: lbfgs failed to converge (status=1):\n",
            "STOP: TOTAL NO. of ITERATIONS REACHED LIMIT.\n",
            "\n",
            "Increase the number of iterations (max_iter) or scale the data as shown in:\n",
            "    https://scikit-learn.org/stable/modules/preprocessing.html\n",
            "Please also refer to the documentation for alternative solver options:\n",
            "    https://scikit-learn.org/stable/modules/linear_model.html#logistic-regression\n",
            "  extra_warning_msg=_LOGISTIC_SOLVER_CONVERGENCE_MSG,\n",
            "/usr/local/lib/python3.7/dist-packages/sklearn/linear_model/_logistic.py:818: ConvergenceWarning: lbfgs failed to converge (status=1):\n",
            "STOP: TOTAL NO. of ITERATIONS REACHED LIMIT.\n",
            "\n",
            "Increase the number of iterations (max_iter) or scale the data as shown in:\n",
            "    https://scikit-learn.org/stable/modules/preprocessing.html\n",
            "Please also refer to the documentation for alternative solver options:\n",
            "    https://scikit-learn.org/stable/modules/linear_model.html#logistic-regression\n",
            "  extra_warning_msg=_LOGISTIC_SOLVER_CONVERGENCE_MSG,\n",
            "/usr/local/lib/python3.7/dist-packages/sklearn/linear_model/_logistic.py:818: ConvergenceWarning: lbfgs failed to converge (status=1):\n",
            "STOP: TOTAL NO. of ITERATIONS REACHED LIMIT.\n",
            "\n",
            "Increase the number of iterations (max_iter) or scale the data as shown in:\n",
            "    https://scikit-learn.org/stable/modules/preprocessing.html\n",
            "Please also refer to the documentation for alternative solver options:\n",
            "    https://scikit-learn.org/stable/modules/linear_model.html#logistic-regression\n",
            "  extra_warning_msg=_LOGISTIC_SOLVER_CONVERGENCE_MSG,\n",
            "/usr/local/lib/python3.7/dist-packages/sklearn/linear_model/_logistic.py:818: ConvergenceWarning: lbfgs failed to converge (status=1):\n",
            "STOP: TOTAL NO. of ITERATIONS REACHED LIMIT.\n",
            "\n",
            "Increase the number of iterations (max_iter) or scale the data as shown in:\n",
            "    https://scikit-learn.org/stable/modules/preprocessing.html\n",
            "Please also refer to the documentation for alternative solver options:\n",
            "    https://scikit-learn.org/stable/modules/linear_model.html#logistic-regression\n",
            "  extra_warning_msg=_LOGISTIC_SOLVER_CONVERGENCE_MSG,\n"
          ]
        },
        {
          "output_type": "execute_result",
          "data": {
            "text/plain": [
              "LogisticRegression(multi_class='multinomial')"
            ]
          },
          "metadata": {},
          "execution_count": 77
        }
      ]
    },
    {
      "cell_type": "code",
      "source": [
        "#make predicitions using model\n",
        "lr_clf_pred = lr_clf.predict(X_test)\n",
        "lr_clf_acc=metrics.accuracy_score(y_test, lr_clf_pred)\n",
        "print(\"Original Accuracy:\",lr_clf_acc)\n",
        "lr_heat_pred = lr_heatmap.predict(heatX_test)\n",
        "lr_heat_acc=metrics.accuracy_score(heaty_test, lr_heat_pred)\n",
        "print(\"HeatMap Accuracy:\",lr_heat_acc)\n",
        "lr_KM_pred = knn_KM.predict(KMeansX_test)\n",
        "lr_KM_acc=metrics.accuracy_score(KMeansy_test, lr_KM_pred)\n",
        "print(\"KMeans Clustering Accuracy:\",lr_KM_acc)\n",
        "lr_agg_pred = lr_agg.predict(aggX_test)\n",
        "lr_agg_acc=metrics.accuracy_score(aggy_test, lr_agg_pred)\n",
        "print(\"Aggregate Clustering Accuracy:\",lr_agg_acc)\n",
        "lr_rf_pred = lr_rf.predict(rfX_test)\n",
        "lr_rf_acc=metrics.accuracy_score(rfy_test, lr_rf_pred)\n",
        "print(\"Random Forest Accuracy:\",lr_rf_acc)\n",
        "lr_s_pred = lr_s.predict(sX_test)\n",
        "lr_s_acc=metrics.accuracy_score(sy_test, lr_s_pred)\n",
        "print(\"Stepwise Regression Accuracy:\",lr_s_acc)"
      ],
      "metadata": {
        "colab": {
          "base_uri": "https://localhost:8080/"
        },
        "id": "49E_Illg-HKL",
        "outputId": "7ecd168f-45b4-485c-abb9-2048136f33eb"
      },
      "execution_count": null,
      "outputs": [
        {
          "output_type": "stream",
          "name": "stdout",
          "text": [
            "Original Accuracy: 0.38127090301003347\n",
            "HeatMap Accuracy: 0.3511705685618729\n",
            "KMeans Clustering Accuracy: 0.38461538461538464\n",
            "Aggregate Clustering Accuracy: 0.3177257525083612\n",
            "Random Forest Accuracy: 0.34448160535117056\n",
            "Stepwise Regression Accuracy: 0.32441471571906355\n"
          ]
        }
      ]
    },
    {
      "cell_type": "code",
      "source": [
        "lracc = [lr_clf_acc,lr_clf_acc,lr_KM_acc,lr_agg_acc,lr_rf_acc,lr_s_acc]\n",
        "lracc = pd.DataFrame(lracc)\n",
        "lracc.insert(0,'Selection Technique', name_array, True)\n",
        "lracc.head()"
      ],
      "metadata": {
        "colab": {
          "base_uri": "https://localhost:8080/",
          "height": 204
        },
        "id": "qMHWtiftGXa8",
        "outputId": "3360cf9c-f4c7-4e87-a9cf-fb7d0ffa81fa"
      },
      "execution_count": null,
      "outputs": [
        {
          "output_type": "execute_result",
          "data": {
            "text/html": [
              "<div>\n",
              "<style scoped>\n",
              "    .dataframe tbody tr th:only-of-type {\n",
              "        vertical-align: middle;\n",
              "    }\n",
              "\n",
              "    .dataframe tbody tr th {\n",
              "        vertical-align: top;\n",
              "    }\n",
              "\n",
              "    .dataframe thead th {\n",
              "        text-align: right;\n",
              "    }\n",
              "</style>\n",
              "<table border=\"1\" class=\"dataframe\">\n",
              "  <thead>\n",
              "    <tr style=\"text-align: right;\">\n",
              "      <th></th>\n",
              "      <th>Selection Technique</th>\n",
              "      <th>0</th>\n",
              "    </tr>\n",
              "  </thead>\n",
              "  <tbody>\n",
              "    <tr>\n",
              "      <th>0</th>\n",
              "      <td>Original</td>\n",
              "      <td>0.381271</td>\n",
              "    </tr>\n",
              "    <tr>\n",
              "      <th>1</th>\n",
              "      <td>HeatMap</td>\n",
              "      <td>0.381271</td>\n",
              "    </tr>\n",
              "    <tr>\n",
              "      <th>2</th>\n",
              "      <td>KMeans Clustering</td>\n",
              "      <td>0.384615</td>\n",
              "    </tr>\n",
              "    <tr>\n",
              "      <th>3</th>\n",
              "      <td>Agglomerative Clustering</td>\n",
              "      <td>0.317726</td>\n",
              "    </tr>\n",
              "    <tr>\n",
              "      <th>4</th>\n",
              "      <td>Feature Importance</td>\n",
              "      <td>0.344482</td>\n",
              "    </tr>\n",
              "  </tbody>\n",
              "</table>\n",
              "</div>"
            ],
            "text/plain": [
              "        Selection Technique         0\n",
              "0                  Original  0.381271\n",
              "1                   HeatMap  0.381271\n",
              "2         KMeans Clustering  0.384615\n",
              "3  Agglomerative Clustering  0.317726\n",
              "4        Feature Importance  0.344482"
            ]
          },
          "metadata": {},
          "execution_count": 79
        }
      ]
    },
    {
      "cell_type": "code",
      "source": [
        "lracc = lracc.plot(kind=\"bar\")\n",
        "plt.title(\"Multinomial Logistic Regression Results\",fontsize=16)\n",
        "plt.xlabel(\"Feature Selection Technique\",fontsize=16)\n",
        "plt.ylabel(\"Accuracy Score\",fontsize=16)\n",
        "plt.xticks([0,1,2,3,4,5], name_array, fontsize=10)\n",
        "lracc.get_legend().remove()"
      ],
      "metadata": {
        "colab": {
          "base_uri": "https://localhost:8080/",
          "height": 654
        },
        "id": "3nTRovD-WcgF",
        "outputId": "beaa11c2-be7b-4e59-8f33-d8eb23a7f294"
      },
      "execution_count": null,
      "outputs": [
        {
          "output_type": "display_data",
          "data": {
            "image/png": "[encoded data removed]",
            "text/plain": [
              "<Figure size 842.4x595.44 with 1 Axes>"
            ]
          },
          "metadata": {}
        }
      ]
    },
    {
      "cell_type": "markdown",
      "source": [
        "#Conclusions\n",
        "The most accurate model is the Random Forest Classifier Model using the original, unedited data set. The lowest overall accuracy came from the Multinomial Logistic Regression Model using Agglomerative Clustering for feature selection. In terms of feature selection alone, using no feature selection and sticking with the original data was most accurate. In terms of the most accurate model (independent of feature selection), the Random Forest Classifier was most accurate. This project is a good example that sometimes feature selection is unneccesary. In our case, our number of features were already low, so our model performed best when all the features were included. However, even the Random Classifer Model only had an accuracy of about 50%, meaning this model would not be a reliable predictor of a song's genre. In the future, it would be best to use a much larger dataset with many more features in order to improve the model's accuracy. Specific accuracies for each model with each feature selection technique is displayed below."
      ],
      "metadata": {
        "id": "_xlMaJGLrxLl"
      }
    },
    {
      "cell_type": "code",
      "source": [
        "all_acc = pd.merge(pd.merge(RFacc,KNNacc,on='Selection Technique'),lracc,on='Selection Technique')\n",
        "all_acc.columns=['Selection Technique', 'Random Forest', 'KNN', 'Multinomial Logistic Regression']\n",
        "all_acc.head()"
      ],
      "metadata": {
        "colab": {
          "base_uri": "https://localhost:8080/"
        },
        "id": "D81lHIfpQh57",
        "outputId": "1ac46636-610b-4d2f-a24e-4aebad62fe43"
      },
      "execution_count": null,
      "outputs": [
        {
          "output_type": "execute_result",
          "data": {
            "text/html": [
              "<div>\n",
              "<style scoped>\n",
              "    .dataframe tbody tr th:only-of-type {\n",
              "        vertical-align: middle;\n",
              "    }\n",
              "\n",
              "    .dataframe tbody tr th {\n",
              "        vertical-align: top;\n",
              "    }\n",
              "\n",
              "    .dataframe thead th {\n",
              "        text-align: right;\n",
              "    }\n",
              "</style>\n",
              "<table border=\"1\" class=\"dataframe\">\n",
              "  <thead>\n",
              "    <tr style=\"text-align: right;\">\n",
              "      <th></th>\n",
              "      <th>Selection Technique</th>\n",
              "      <th>Random Forest</th>\n",
              "      <th>KNN</th>\n",
              "      <th>Multinomial Logistic Regression</th>\n",
              "    </tr>\n",
              "  </thead>\n",
              "  <tbody>\n",
              "    <tr>\n",
              "      <th>0</th>\n",
              "      <td>Original</td>\n",
              "      <td>0.501672</td>\n",
              "      <td>0.351171</td>\n",
              "      <td>0.391304</td>\n",
              "    </tr>\n",
              "    <tr>\n",
              "      <th>1</th>\n",
              "      <td>HeatMap</td>\n",
              "      <td>0.347826</td>\n",
              "      <td>0.257525</td>\n",
              "      <td>0.391304</td>\n",
              "    </tr>\n",
              "    <tr>\n",
              "      <th>2</th>\n",
              "      <td>KMeans Clustering</td>\n",
              "      <td>0.438127</td>\n",
              "      <td>0.321070</td>\n",
              "      <td>0.321070</td>\n",
              "    </tr>\n",
              "    <tr>\n",
              "      <th>3</th>\n",
              "      <td>Agglomerative Clustering</td>\n",
              "      <td>0.351171</td>\n",
              "      <td>0.277592</td>\n",
              "      <td>0.237458</td>\n",
              "    </tr>\n",
              "    <tr>\n",
              "      <th>4</th>\n",
              "      <td>Feature Importance</td>\n",
              "      <td>0.451505</td>\n",
              "      <td>0.351171</td>\n",
              "      <td>0.354515</td>\n",
              "    </tr>\n",
              "  </tbody>\n",
              "</table>\n",
              "</div>"
            ],
            "text/plain": [
              "        Selection Technique  ...  Multinomial Logistic Regression\n",
              "0                  Original  ...                         0.391304\n",
              "1                   HeatMap  ...                         0.391304\n",
              "2         KMeans Clustering  ...                         0.321070\n",
              "3  Agglomerative Clustering  ...                         0.237458\n",
              "4        Feature Importance  ...                         0.354515\n",
              "\n",
              "[5 rows x 4 columns]"
            ]
          },
          "metadata": {},
          "execution_count": 139
        }
      ]
    },
    {
      "cell_type": "code",
      "source": [
        "lines = all_acc.plot.line(figsize=[10,10])\n",
        "plt.title(\"Models Using Different Feature Selection Techniques\")\n",
        "plt.xticks([0,1,2,3,4,5], name_array)\n",
        "plt.xticks(rotation = 90)\n",
        "lines.set_xlabel(\"Feature Selection Technique\")\n",
        "lines.set_ylabel(\"Accuracy Score\")\n",
        "plt.show()"
      ],
      "metadata": {
        "colab": {
          "base_uri": "https://localhost:8080/"
        },
        "id": "A8g782AETnbZ",
        "outputId": "75dd9a89-301a-4c5c-a9b3-03fead581147"
      },
      "execution_count": null,
      "outputs": [
        {
          "output_type": "display_data",
          "data": {
            "image/png": "[encoded data removed]",
            "text/plain": [
              "<Figure size 720x720 with 1 Axes>"
            ]
          },
          "metadata": {
            "needs_background": "light"
          }
        }
      ]
    }
  ]
}